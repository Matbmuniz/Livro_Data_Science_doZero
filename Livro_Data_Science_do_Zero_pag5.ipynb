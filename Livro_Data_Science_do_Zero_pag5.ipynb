{
 "cells": [
  {
   "cell_type": "code",
   "execution_count": 3,
   "id": "29cdb7a4",
   "metadata": {},
   "outputs": [],
   "source": [
    "users = [{\"id\": 0, \"name\":\"Hero\"},\n",
    "          {\"id\": 1, \"name\":\"Dunn\"},\n",
    "          {\"id\": 2, \"name\":\"Sue\"},\n",
    "          {\"id\": 3, \"name\":\"Chi\"},\n",
    "          {\"id\": 4, \"name\":\"Thor\"},\n",
    "          {\"id\": 5, \"name\":\"Clive\"},\n",
    "          {\"id\": 6, \"name\":\"Hicks\"},\n",
    "          {\"id\": 7, \"name\":\"Devin\"},\n",
    "          {\"id\": 8, \"name\":\"Kate\"},\n",
    "          {\"id\": 9, \"name\":\"Klein\"}\n",
    "        ]"
   ]
  },
  {
   "cell_type": "code",
   "execution_count": 5,
   "id": "20f545cc",
   "metadata": {},
   "outputs": [
    {
     "data": {
      "text/plain": [
       "[{'id': 0, 'name': 'Hero'},\n",
       " {'id': 1, 'name': 'Dunn'},\n",
       " {'id': 2, 'name': 'Sue'},\n",
       " {'id': 3, 'name': 'Chi'},\n",
       " {'id': 4, 'name': 'Thor'},\n",
       " {'id': 5, 'name': 'Clive'},\n",
       " {'id': 6, 'name': 'Hicks'},\n",
       " {'id': 7, 'name': 'Devin'},\n",
       " {'id': 8, 'name': 'Kate'},\n",
       " {'id': 9, 'name': 'Klein'}]"
      ]
     },
     "execution_count": 5,
     "metadata": {},
     "output_type": "execute_result"
    }
   ],
   "source": [
    "users"
   ]
  },
  {
   "cell_type": "code",
   "execution_count": 7,
   "id": "d2d0e1c5",
   "metadata": {},
   "outputs": [],
   "source": [
    "friendships = [(0,1), (0,2), (1,2),(1,3),(2,3),(3,4),\n",
    "              (4,5),(5,6),(5,7),(6,8),(7,8),(8,9)]"
   ]
  },
  {
   "cell_type": "code",
   "execution_count": 9,
   "id": "c72c2454",
   "metadata": {},
   "outputs": [
    {
     "data": {
      "text/plain": [
       "[(0, 1),\n",
       " (0, 2),\n",
       " (1, 2),\n",
       " (1, 3),\n",
       " (2, 3),\n",
       " (3, 4),\n",
       " (4, 5),\n",
       " (5, 6),\n",
       " (5, 7),\n",
       " (6, 8),\n",
       " (7, 8),\n",
       " (8, 9)]"
      ]
     },
     "execution_count": 9,
     "metadata": {},
     "output_type": "execute_result"
    }
   ],
   "source": [
    "friendships"
   ]
  },
  {
   "cell_type": "code",
   "execution_count": 11,
   "id": "ea36337b",
   "metadata": {},
   "outputs": [],
   "source": [
    "for user in users:\n",
    "    user[\"friends\"] = []"
   ]
  },
  {
   "cell_type": "code",
   "execution_count": 13,
   "id": "2e933d50",
   "metadata": {},
   "outputs": [],
   "source": [
    "for i, j in friendships:\n",
    "    # isso funciona porque users[i] é o usuario cuja id é i\n",
    "    users[i][\"friends\"].append(users[j]) #adiciona i como um amigo de j\n",
    "    users[j][\"friends\"].append(users[i]) #adiciona j como um amigo de i"
   ]
  },
  {
   "cell_type": "code",
   "execution_count": 22,
   "id": "e097e294",
   "metadata": {},
   "outputs": [],
   "source": [
    "def number_of_friends(user):\n",
    "    \"\"\"quantos amigos o usúario tem?\"\"\"\n",
    "    return len(user[\"friends\"]) #tamanho da lista friend_ids\n",
    "total_connections = sum(number_of_friends(user)\n",
    "                       for user in users)"
   ]
  },
  {
   "cell_type": "code",
   "execution_count": 25,
   "id": "443eee91",
   "metadata": {},
   "outputs": [],
   "source": [
    "from __future__ import division"
   ]
  },
  {
   "cell_type": "code",
   "execution_count": 27,
   "id": "a2573f68",
   "metadata": {},
   "outputs": [],
   "source": [
    "from __future__ import division\n",
    "num_users = len(users)\n",
    "avg_connections = total_connections / num_users"
   ]
  },
  {
   "cell_type": "code",
   "execution_count": 33,
   "id": "4ade6bd0",
   "metadata": {},
   "outputs": [
    {
     "data": {
      "text/plain": [
       "[(1, 6),\n",
       " (2, 6),\n",
       " (3, 6),\n",
       " (5, 6),\n",
       " (8, 6),\n",
       " (0, 4),\n",
       " (4, 4),\n",
       " (6, 4),\n",
       " (7, 4),\n",
       " (9, 2)]"
      ]
     },
     "execution_count": 33,
     "metadata": {},
     "output_type": "execute_result"
    }
   ],
   "source": [
    "# cria uma lista (user_id, number_of_friends)\n",
    "num_friends_by_id = [(user[\"id\"], number_of_friends(user))\n",
    "                    for user in users]\n",
    "sorted(num_friends_by_id, key=lambda userid_numfriends: userid_numfriends[1], reverse=True)\n",
    "# é ordenado por num_friends do maior para o menor\n",
    "# cada par é (user_id, num_friends)\n",
    "# [(1,3), (2,3), (3,3), (5,3), (8,3),\n",
    "# (0,2), (4,2), (6,2), (7,2), (9,1)]"
   ]
  },
  {
   "cell_type": "code",
   "execution_count": 36,
   "id": "315b3050",
   "metadata": {},
   "outputs": [],
   "source": [
    "def friends_of_friend_ids_bad(user):\n",
    " # \"foaf\" é abreviação de \"friend of a friend\"\n",
    "    return [foaf[\"id\"]\n",
    "for friend in user[\"friends\"] # para cada amigo de usuario\n",
    "for foaf in friend[\"friends\"]] # pega cada _their_friends\n"
   ]
  },
  {
   "cell_type": "code",
   "execution_count": null,
   "id": "9a1b94d4",
   "metadata": {},
   "outputs": [],
   "source": []
  }
 ],
 "metadata": {
  "kernelspec": {
   "display_name": "Python 3",
   "language": "python",
   "name": "python3"
  },
  "language_info": {
   "codemirror_mode": {
    "name": "ipython",
    "version": 3
   },
   "file_extension": ".py",
   "mimetype": "text/x-python",
   "name": "python",
   "nbconvert_exporter": "python",
   "pygments_lexer": "ipython3",
   "version": "3.8.8"
  }
 },
 "nbformat": 4,
 "nbformat_minor": 5
}
